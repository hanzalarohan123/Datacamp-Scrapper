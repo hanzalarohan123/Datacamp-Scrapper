{
  "nbformat": 4,
  "nbformat_minor": 0,
  "metadata": {
    "colab": {
      "name": "Datacamp scrapping.ipynb",
      "provenance": [],
      "collapsed_sections": [],
      "toc_visible": true
    },
    "kernelspec": {
      "name": "python3",
      "display_name": "Python 3"
    },
    "language_info": {
      "name": "python"
    }
  },
  "cells": [
    {
      "cell_type": "code",
      "metadata": {
        "id": "2Ms_UdrmbgDS"
      },
      "source": [
        "import pandas as pd\n",
        "import numpy as np\n",
        "import matplotlib.pyplot as plt\n",
        "import seaborn as sns\n",
        "%matplotlib inline\n",
        "import re\n",
        "import time\n",
        "from datetime import datetime\n",
        "import matplotlib.dates as mdates\n",
        "import matplotlib.ticker as ticker\n",
        "from urllib.request import urlopen\n",
        "import urllib\n",
        "from bs4 import BeautifulSoup\n",
        "import requests"
      ],
      "execution_count": 175,
      "outputs": []
    },
    {
      "cell_type": "code",
      "metadata": {
        "id": "flZWFTWLblu9"
      },
      "source": [
        "url = \"https://www.datacamp.com/community/tutorials\"\n",
        "page = requests.get(url)\n",
        "#html = urlopen(url)\n",
        "\n",
        "page=urllib.request.Request(url,headers={'User-Agent': 'Mozilla/5.0'}) \n",
        "infile=urllib.request.urlopen(page).read()\n",
        "data = infile.decode('ISO-8859-1') # Read the content as string decoded with ISO-8859-1\n",
        "\n",
        "#print(data)\n",
        "\n",
        "\n",
        "soup = BeautifulSoup(data, 'html.parser')\n",
        "\n",
        "pages = [i.text for i in soup.find_all('a') if 'community/tutorials?page=' in str(i)]\n",
        "lastpage = pages[-1]"
      ],
      "execution_count": 176,
      "outputs": []
    },
    {
      "cell_type": "code",
      "metadata": {
        "colab": {
          "base_uri": "https://localhost:8080/"
        },
        "id": "QC87sqbUekUk",
        "outputId": "272270da-3aca-4d80-f596-f74b3142970e"
      },
      "source": [
        "print(lastpage)"
      ],
      "execution_count": 177,
      "outputs": [
        {
          "output_type": "stream",
          "text": [
            "29\n"
          ],
          "name": "stdout"
        }
      ]
    },
    {
      "cell_type": "code",
      "metadata": {
        "id": "ZS6Mc4I6evk5"
      },
      "source": [
        "description=[]\n",
        "upvote=[]\n",
        "author=[]\n",
        "publishdate=[]\n",
        "title=[]"
      ],
      "execution_count": 178,
      "outputs": []
    },
    {
      "cell_type": "code",
      "metadata": {
        "colab": {
          "base_uri": "https://localhost:8080/"
        },
        "id": "Qqrsu7Ioe2gA",
        "outputId": "1bf20001-31be-4dd4-83ba-86d84a8e4fd2"
      },
      "source": [
        "for cp in np.arange(1,int(lastpage)+1):\n",
        "    url = \"https://www.datacamp.com/community/tutorials?page=\" + str(cp)\n",
        "    #html = urlopen(url)\n",
        "    \n",
        "    page=urllib.request.Request(url,headers={'User-Agent': 'Mozilla/5.0'}) \n",
        "    infile=urllib.request.urlopen(page).read()\n",
        "    data = infile.decode('ISO-8859-1') # Read the content as string decoded with ISO-8859-1\n",
        "    soup = BeautifulSoup(data, 'html')\n",
        "    description.append([i.text for i in soup.find_all(class_='jsx-2625178925 blocText description')])\n",
        "    upvote.append([i.text for i in soup.find_all(class_='jsx-1727309017 voted')])\n",
        "    author.append([i.text for i in soup.find_all(class_='jsx-886169423 name')])\n",
        "    publishdate.append([i.text for i in soup.find_all(class_='jsx-886169423 date')])\n",
        "    title.append([i.text for i in soup.find_all(class_='jsx-2625178925 blue')])\n",
        "print (\"Done!\")"
      ],
      "execution_count": 179,
      "outputs": [
        {
          "output_type": "stream",
          "text": [
            "Done!\n"
          ],
          "name": "stdout"
        }
      ]
    },
    {
      "cell_type": "code",
      "metadata": {
        "id": "AUR8Dy0qfs4y"
      },
      "source": [
        "descriptionflat = [y for x in description for y in x]\n",
        "upvoteflat = [y for x in upvote for y in x]\n",
        "authorflat = [y for x in author for y in x]\n",
        "publishdateflat = [y for x in publishdate for y in x]\n",
        "titleflat = [y for x in title for y in x]\n",
        "publishdateformatted = [datetime.strptime(re.sub('rd, ', ', ', re.sub('st, ', ', ', re.sub('nd, ', ', ', re.sub('th, ',', ',a)))), \"%B %d, %Y\") for a in publishdateflat]"
      ],
      "execution_count": 180,
      "outputs": []
    },
    {
      "cell_type": "code",
      "metadata": {
        "colab": {
          "base_uri": "https://localhost:8080/"
        },
        "id": "xHCZeXiqIStz",
        "outputId": "de92b4ef-cf1b-4490-b1b2-915f8ec96745"
      },
      "source": [
        "print(len(descriptionflat), len(upvoteflat), len(authorflat),len(publishdateflat),len(titleflat))"
      ],
      "execution_count": 181,
      "outputs": [
        {
          "output_type": "stream",
          "text": [
            "429 429 429 429 429\n"
          ],
          "name": "stdout"
        }
      ]
    },
    {
      "cell_type": "code",
      "metadata": {
        "id": "Gtv0qm7afutb"
      },
      "source": [
        "cdata = {\"author\":authorflat,\"publishdate\":publishdateformatted,\"title\":titleflat,\"description\":descriptionflat,\"upvote\":upvoteflat}\n",
        "df = pd.DataFrame(data = cdata)\n",
        "df.to_csv(\"c:\\\\users\\\\Turabi Traders\\\\documents\\\\datacamp130818.csv\", header=True, index=False)"
      ],
      "execution_count": 182,
      "outputs": []
    },
    {
      "cell_type": "code",
      "metadata": {
        "id": "A9exYpxif1s0"
      },
      "source": [
        "datacamp = pd.read_csv(\"c:\\\\users\\\\Turabi Traders\\\\documents\\\\datacamp130818.csv\", parse_dates=[\"publishdate\"], infer_datetime_format=True)"
      ],
      "execution_count": 183,
      "outputs": []
    },
    {
      "cell_type": "code",
      "metadata": {
        "colab": {
          "base_uri": "https://localhost:8080/"
        },
        "id": "mAEUZQzBf6W6",
        "outputId": "d68fdafe-4e13-4914-8f0d-c273e55b84d3"
      },
      "source": [
        "datacamp.shape"
      ],
      "execution_count": 184,
      "outputs": [
        {
          "output_type": "execute_result",
          "data": {
            "text/plain": [
              "(429, 5)"
            ]
          },
          "metadata": {
            "tags": []
          },
          "execution_count": 184
        }
      ]
    },
    {
      "cell_type": "code",
      "metadata": {
        "colab": {
          "base_uri": "https://localhost:8080/",
          "height": 191
        },
        "id": "GAjTxBlyLZ1G",
        "outputId": "5b64fb44-88a4-4a56-ac7a-0fec1e5db1f1"
      },
      "source": [
        "datacamp.head()"
      ],
      "execution_count": 185,
      "outputs": [
        {
          "output_type": "execute_result",
          "data": {
            "text/html": [
              "<div>\n",
              "<style scoped>\n",
              "    .dataframe tbody tr th:only-of-type {\n",
              "        vertical-align: middle;\n",
              "    }\n",
              "\n",
              "    .dataframe tbody tr th {\n",
              "        vertical-align: top;\n",
              "    }\n",
              "\n",
              "    .dataframe thead th {\n",
              "        text-align: right;\n",
              "    }\n",
              "</style>\n",
              "<table border=\"1\" class=\"dataframe\">\n",
              "  <thead>\n",
              "    <tr style=\"text-align: right;\">\n",
              "      <th></th>\n",
              "      <th>author</th>\n",
              "      <th>publishdate</th>\n",
              "      <th>title</th>\n",
              "      <th>description</th>\n",
              "      <th>upvote</th>\n",
              "    </tr>\n",
              "  </thead>\n",
              "  <tbody>\n",
              "    <tr>\n",
              "      <th>0</th>\n",
              "      <td>DataCamp Team</td>\n",
              "      <td>2020-10-23</td>\n",
              "      <td>Installing Jupyter Notebook</td>\n",
              "      <td></td>\n",
              "      <td>44</td>\n",
              "    </tr>\n",
              "    <tr>\n",
              "      <th>1</th>\n",
              "      <td>DataCamp Team</td>\n",
              "      <td>2020-10-23</td>\n",
              "      <td>Joins in SQL</td>\n",
              "      <td></td>\n",
              "      <td>19</td>\n",
              "    </tr>\n",
              "    <tr>\n",
              "      <th>2</th>\n",
              "      <td>DataCamp Team</td>\n",
              "      <td>2020-10-23</td>\n",
              "      <td>What is SQL?</td>\n",
              "      <td></td>\n",
              "      <td>20</td>\n",
              "    </tr>\n",
              "    <tr>\n",
              "      <th>3</th>\n",
              "      <td>DataCamp Team</td>\n",
              "      <td>2020-10-23</td>\n",
              "      <td>PCH in R</td>\n",
              "      <td></td>\n",
              "      <td>2</td>\n",
              "    </tr>\n",
              "    <tr>\n",
              "      <th>4</th>\n",
              "      <td>DataCamp Team</td>\n",
              "      <td>2020-10-23</td>\n",
              "      <td>Python String format()</td>\n",
              "      <td></td>\n",
              "      <td>12</td>\n",
              "    </tr>\n",
              "  </tbody>\n",
              "</table>\n",
              "</div>"
            ],
            "text/plain": [
              "          author publishdate                        title description  upvote\n",
              "0  DataCamp Team  2020-10-23  Installing Jupyter Notebook                  44\n",
              "1  DataCamp Team  2020-10-23                 Joins in SQL                  19\n",
              "2  DataCamp Team  2020-10-23                 What is SQL?                  20\n",
              "3  DataCamp Team  2020-10-23                     PCH in R                   2\n",
              "4  DataCamp Team  2020-10-23       Python String format()                  12"
            ]
          },
          "metadata": {
            "tags": []
          },
          "execution_count": 185
        }
      ]
    },
    {
      "cell_type": "code",
      "metadata": {
        "colab": {
          "base_uri": "https://localhost:8080/",
          "height": 272
        },
        "id": "kncg8sTpf-u7",
        "outputId": "8f7e223e-950f-4500-9aca-b088eee3a958"
      },
      "source": [
        "datacamp.tail()"
      ],
      "execution_count": 186,
      "outputs": [
        {
          "output_type": "execute_result",
          "data": {
            "text/html": [
              "<div>\n",
              "<style scoped>\n",
              "    .dataframe tbody tr th:only-of-type {\n",
              "        vertical-align: middle;\n",
              "    }\n",
              "\n",
              "    .dataframe tbody tr th {\n",
              "        vertical-align: top;\n",
              "    }\n",
              "\n",
              "    .dataframe thead th {\n",
              "        text-align: right;\n",
              "    }\n",
              "</style>\n",
              "<table border=\"1\" class=\"dataframe\">\n",
              "  <thead>\n",
              "    <tr style=\"text-align: right;\">\n",
              "      <th></th>\n",
              "      <th>author</th>\n",
              "      <th>publishdate</th>\n",
              "      <th>title</th>\n",
              "      <th>description</th>\n",
              "      <th>upvote</th>\n",
              "    </tr>\n",
              "  </thead>\n",
              "  <tbody>\n",
              "    <tr>\n",
              "      <th>424</th>\n",
              "      <td>Karlijn Willems</td>\n",
              "      <td>2014-06-09</td>\n",
              "      <td>Decimal Comma or Point? A googleVis visualization</td>\n",
              "      <td>Decimal comma or decimal point? A handy tool t...</td>\n",
              "      <td>3</td>\n",
              "    </tr>\n",
              "    <tr>\n",
              "      <th>425</th>\n",
              "      <td>Karlijn Willems</td>\n",
              "      <td>2014-06-03</td>\n",
              "      <td>What Is the Best Statistical Programming Langu...</td>\n",
              "      <td>The infograph 'Statistical Language Wars' comp...</td>\n",
              "      <td>6</td>\n",
              "    </tr>\n",
              "    <tr>\n",
              "      <th>426</th>\n",
              "      <td>Karlijn Willems</td>\n",
              "      <td>2014-03-31</td>\n",
              "      <td>Data Science Cartoons: a Top Seven List by Dat...</td>\n",
              "      <td>The 7 funniest data science cartoons on the we...</td>\n",
              "      <td>10</td>\n",
              "    </tr>\n",
              "    <tr>\n",
              "      <th>427</th>\n",
              "      <td>Karlijn Willems</td>\n",
              "      <td>2014-03-17</td>\n",
              "      <td>R posts on Stack Overflow | A Top 5 selection ...</td>\n",
              "      <td>Stack Overflow is a useful resource for techni...</td>\n",
              "      <td>4</td>\n",
              "    </tr>\n",
              "    <tr>\n",
              "      <th>428</th>\n",
              "      <td>Karlijn Willems</td>\n",
              "      <td>2013-12-04</td>\n",
              "      <td>Coursera Courses on R: Complete List Ranked by...</td>\n",
              "      <td>A list of all Coursera courses on R. These cou...</td>\n",
              "      <td>7</td>\n",
              "    </tr>\n",
              "  </tbody>\n",
              "</table>\n",
              "</div>"
            ],
            "text/plain": [
              "              author  ... upvote\n",
              "424  Karlijn Willems  ...      3\n",
              "425  Karlijn Willems  ...      6\n",
              "426  Karlijn Willems  ...     10\n",
              "427  Karlijn Willems  ...      4\n",
              "428  Karlijn Willems  ...      7\n",
              "\n",
              "[5 rows x 5 columns]"
            ]
          },
          "metadata": {
            "tags": []
          },
          "execution_count": 186
        }
      ]
    },
    {
      "cell_type": "code",
      "metadata": {
        "id": "TD6kAwR9gKVo"
      },
      "source": [
        "datacamp['publishyymm'] = datacamp['publishdate'].dt.strftime(\"%Y-%b\")\n",
        "datacamp[\"posts\"] = 1"
      ],
      "execution_count": 187,
      "outputs": []
    },
    {
      "cell_type": "code",
      "metadata": {
        "colab": {
          "base_uri": "https://localhost:8080/",
          "height": 431
        },
        "id": "C300XQhLO67A",
        "outputId": "ca43db04-a205-428c-89c8-a8102358de2b"
      },
      "source": [
        "datacamp.groupby([datacamp['publishdate'].dt.year, datacamp['publishdate'].dt.month]).size().plot(kind='bar', figsize=(15,7), color='b')"
      ],
      "execution_count": 188,
      "outputs": [
        {
          "output_type": "execute_result",
          "data": {
            "text/plain": [
              "<matplotlib.axes._subplots.AxesSubplot at 0x7f9e80c4cdd0>"
            ]
          },
          "metadata": {
            "tags": []
          },
          "execution_count": 188
        },
        {
          "output_type": "display_data",
          "data": {
            "image/png": "[encoded data removed]",
            "text/plain": [
              "<Figure size 1080x504 with 1 Axes>"
            ]
          },
          "metadata": {
            "tags": [],
            "needs_background": "light"
          }
        }
      ]
    },
    {
      "cell_type": "code",
      "metadata": {
        "colab": {
          "base_uri": "https://localhost:8080/",
          "height": 428
        },
        "id": "aUKRyD10O9Cx",
        "outputId": "345d522d-c1c7-455e-8711-426dc9dfcb6c"
      },
      "source": [
        "datacamp[datacamp[\"publishdate\"]>='2017-01-01'].sort_values(by=\"publishdate\", ascending=True).groupby([datacamp['publishyymm']],sort=False).size().plot(kind='bar', figsize=(15,7), color='b')"
      ],
      "execution_count": 189,
      "outputs": [
        {
          "output_type": "execute_result",
          "data": {
            "text/plain": [
              "<matplotlib.axes._subplots.AxesSubplot at 0x7f9e71752c10>"
            ]
          },
          "metadata": {
            "tags": []
          },
          "execution_count": 189
        },
        {
          "output_type": "display_data",
          "data": {
            "image/png": "[encoded data removed]",
            "text/plain": [
              "<Figure size 1080x504 with 1 Axes>"
            ]
          },
          "metadata": {
            "tags": [],
            "needs_background": "light"
          }
        }
      ]
    },
    {
      "cell_type": "code",
      "metadata": {
        "colab": {
          "base_uri": "https://localhost:8080/",
          "height": 421
        },
        "id": "OE-LJD8NPHl5",
        "outputId": "34f95cb4-017f-4511-a815-426389914937"
      },
      "source": [
        "datacamp[datacamp[\"publishdate\"]>='2017-01-01'][\"author\"].value_counts(sort=True, ascending=False)[:10].plot(kind='bar')\n"
      ],
      "execution_count": 190,
      "outputs": [
        {
          "output_type": "execute_result",
          "data": {
            "text/plain": [
              "<matplotlib.axes._subplots.AxesSubplot at 0x7f9e7188d450>"
            ]
          },
          "metadata": {
            "tags": []
          },
          "execution_count": 190
        },
        {
          "output_type": "display_data",
          "data": {
            "image/png": "[encoded data removed]",
            "text/plain": [
              "<Figure size 432x288 with 1 Axes>"
            ]
          },
          "metadata": {
            "tags": [],
            "needs_background": "light"
          }
        }
      ]
    },
    {
      "cell_type": "code",
      "metadata": {
        "id": "W_4b-7tsPTPu"
      },
      "source": [
        "topauthors = datacamp[datacamp[\"publishdate\"]>='2017-01-01'][\"author\"].value_counts(sort=True, ascending=False)[:10].index"
      ],
      "execution_count": 191,
      "outputs": []
    },
    {
      "cell_type": "code",
      "metadata": {
        "id": "p9W6j2ryXpmH"
      },
      "source": [
        "dh = datacamp[datacamp[\"publishdate\"]>='2017-01-01'].sort_values(by=\"publishdate\", ascending=True).set_index([\"publishdate\"],drop =False)\n",
        "dh[\"publishdateone\"] = pd.to_datetime(dh.publishdate.astype(str).str[0:7]+'-01')"
      ],
      "execution_count": 192,
      "outputs": []
    },
    {
      "cell_type": "code",
      "metadata": {
        "colab": {
          "base_uri": "https://localhost:8080/",
          "height": 407
        },
        "id": "z96e0UyOY2cz",
        "outputId": "c0deac90-77bc-45df-f245-8811955d5cb0"
      },
      "source": [
        "dhp = dh[dh[\"author\"].isin(topauthors)].pivot_table(index=\"publishdateone\",values=\"posts\",columns=\"author\", aggfunc=np.sum)\n",
        "fig, ax = plt.subplots(figsize=(15,7))\n",
        "dhp.plot(ax=ax, kind='bar', stacked=True)\n",
        "ticklabels = [item.strftime('%Y %b') for item in dhp.index]\n",
        "ax.xaxis.set_major_formatter(ticker.FixedFormatter(ticklabels))"
      ],
      "execution_count": 193,
      "outputs": [
        {
          "output_type": "display_data",
          "data": {
            "image/png": "[encoded data removed]",
            "text/plain": [
              "<Figure size 1080x504 with 1 Axes>"
            ]
          },
          "metadata": {
            "tags": [],
            "needs_background": "light"
          }
        }
      ]
    },
    {
      "cell_type": "code",
      "metadata": {
        "id": "yQrTJ7MFY9Gh"
      },
      "source": [
        "upvotes = dh[dh[\"author\"].isin(topauthors)].groupby(['author'], as_index=False).agg({'posts':\"sum\",      \n",
        "                                     'upvote': \"sum\"})"
      ],
      "execution_count": 194,
      "outputs": []
    },
    {
      "cell_type": "code",
      "metadata": {
        "colab": {
          "base_uri": "https://localhost:8080/",
          "height": 451
        },
        "id": "S8YAyBw2ZEB2",
        "outputId": "6d8f55c6-52d3-4f1a-fc08-a0d02aa3f88e"
      },
      "source": [
        "sns.lmplot('posts',\n",
        "           'upvote',\n",
        "           data=upvotes,\n",
        "           fit_reg=False,\n",
        "           hue=\"author\",\n",
        "           scatter_kws={\"marker\": \"D\",\n",
        "                        \"s\": 100})"
      ],
      "execution_count": 195,
      "outputs": [
        {
          "output_type": "stream",
          "text": [
            "/usr/local/lib/python3.7/dist-packages/seaborn/_decorators.py:43: FutureWarning: Pass the following variables as keyword args: x, y. From version 0.12, the only valid positional argument will be `data`, and passing other arguments without an explicit keyword will result in an error or misinterpretation.\n",
            "  FutureWarning\n"
          ],
          "name": "stderr"
        },
        {
          "output_type": "execute_result",
          "data": {
            "text/plain": [
              "<seaborn.axisgrid.FacetGrid at 0x7f9e71073e10>"
            ]
          },
          "metadata": {
            "tags": []
          },
          "execution_count": 195
        },
        {
          "output_type": "display_data",
          "data": {
            "image/png": "[encoded data removed]",
            "text/plain": [
              "<Figure size 545.75x360 with 1 Axes>"
            ]
          },
          "metadata": {
            "tags": [],
            "needs_background": "light"
          }
        }
      ]
    },
    {
      "cell_type": "markdown",
      "metadata": {
        "id": "yIisIxZUZIHw"
      },
      "source": [
        "**THE END**"
      ]
    }
  ]
}