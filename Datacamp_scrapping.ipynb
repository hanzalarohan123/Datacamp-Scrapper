{
  "nbformat": 4,
  "nbformat_minor": 0,
  "metadata": {
    "colab": {
      "name": "Datacamp scrapping.ipynb",
      "provenance": [],
      "collapsed_sections": [],
      "toc_visible": true
    },
    "kernelspec": {
      "name": "python3",
      "display_name": "Python 3"
    },
    "language_info": {
      "name": "python"
    }
  },
  "cells": [
    {
      "cell_type": "code",
      "metadata": {
        "id": "2Ms_UdrmbgDS"
      },
      "source": [
        "import pandas as pd\n",
        "import numpy as np\n",
        "import matplotlib.pyplot as plt\n",
        "import seaborn as sns\n",
        "%matplotlib inline\n",
        "import re\n",
        "import time\n",
        "from datetime import datetime\n",
        "import matplotlib.dates as mdates\n",
        "import matplotlib.ticker as ticker\n",
        "from urllib.request import urlopen\n",
        "import urllib\n",
        "from bs4 import BeautifulSoup\n",
        "import requests"
      ],
      "execution_count": 80,
      "outputs": []
    },
    {
      "cell_type": "code",
      "metadata": {
        "id": "flZWFTWLblu9"
      },
      "source": [
        "url = \"https://www.datacamp.com/community/tutorials\"\n",
        "page = requests.get(url)\n",
        "#html = urlopen(url)\n",
        "\n",
        "page=urllib.request.Request(url,headers={'User-Agent': 'Mozilla/5.0'}) \n",
        "infile=urllib.request.urlopen(page).read()\n",
        "data = infile.decode('ISO-8859-1') # Read the content as string decoded with ISO-8859-1\n",
        "\n",
        "#print(data)\n",
        "\n",
        "\n",
        "soup = BeautifulSoup(data, 'html.parser')\n",
        "\n",
        "pages = [i.text for i in soup.find_all('a') if 'community/tutorials?page=' in str(i)]\n",
        "lastpage = pages[-1]"
      ],
      "execution_count": 81,
      "outputs": []
    },
    {
      "cell_type": "code",
      "metadata": {
        "colab": {
          "base_uri": "https://localhost:8080/"
        },
        "id": "QC87sqbUekUk",
        "outputId": "f046608b-aa22-44d6-851a-3a5eed73cdd0"
      },
      "source": [
        "print(lastpage)"
      ],
      "execution_count": 82,
      "outputs": [
        {
          "output_type": "stream",
          "text": [
            "29\n"
          ],
          "name": "stdout"
        }
      ]
    },
    {
      "cell_type": "code",
      "metadata": {
        "id": "ZS6Mc4I6evk5"
      },
      "source": [
        "description=[]\n",
        "upvote=[]\n",
        "author=[]\n",
        "publishdate=[]\n",
        "title=[]"
      ],
      "execution_count": 83,
      "outputs": []
    },
    {
      "cell_type": "code",
      "metadata": {
        "colab": {
          "base_uri": "https://localhost:8080/"
        },
        "id": "Qqrsu7Ioe2gA",
        "outputId": "3ba9557b-d39a-410d-e0fa-0ab1a5e05b07"
      },
      "source": [
        "for cp in np.arange(1,int(lastpage)+1):\n",
        "    url = \"https://www.datacamp.com/community/tutorials?page=\" + str(cp)\n",
        "    #html = urlopen(url)\n",
        "    \n",
        "    page=urllib.request.Request(url,headers={'User-Agent': 'Mozilla/5.0'}) \n",
        "    infile=urllib.request.urlopen(page).read()\n",
        "    data = infile.decode('ISO-8859-1') # Read the content as string decoded with ISO-8859-1\n",
        "    soup = BeautifulSoup(data, 'html')\n",
        "    description.append([i.text for i in soup.find_all(class_='jsx-2625178925 blocText description')])\n",
        "    upvote.append([i.text for i in soup.find_all(class_='jsx-1727309017 voted')])\n",
        "    author.append([i.text for i in soup.find_all(class_='jsx-886169423 name')])\n",
        "    publishdate.append([i.text for i in soup.find_all(class_='jsx-886169423 date')])\n",
        "    title.append([i.text for i in soup.find_all(class_='jsx-2625178925 blue')])\n",
        "print (\"Done!\")"
      ],
      "execution_count": 84,
      "outputs": [
        {
          "output_type": "stream",
          "text": [
            "Done!\n"
          ],
          "name": "stdout"
        }
      ]
    },
    {
      "cell_type": "code",
      "metadata": {
        "id": "AUR8Dy0qfs4y"
      },
      "source": [
        "descriptionflat = [y for x in description for y in x]\n",
        "upvoteflat = [y for x in upvote for y in x]\n",
        "authorflat = [y for x in author for y in x]\n",
        "publishdateflat = [y for x in publishdate for y in x]\n",
        "titleflat = [y for x in title for y in x]\n",
        "publishdateformatted = [datetime.strptime(re.sub('rd, ', ', ', re.sub('st, ', ', ', re.sub('nd, ', ', ', re.sub('th, ',', ',a)))), \"%B %d, %Y\") for a in publishdateflat]"
      ],
      "execution_count": 85,
      "outputs": []
    },
    {
      "cell_type": "code",
      "metadata": {
        "colab": {
          "base_uri": "https://localhost:8080/"
        },
        "id": "xHCZeXiqIStz",
        "outputId": "2eff22b6-159f-4fba-9dbb-24cb18e69a84"
      },
      "source": [
        "print(len(descriptionflat), len(upvoteflat), len(authorflat),len(publishdateflat),len(titleflat))"
      ],
      "execution_count": 86,
      "outputs": [
        {
          "output_type": "stream",
          "text": [
            "429 429 429 429 429\n"
          ],
          "name": "stdout"
        }
      ]
    },
    {
      "cell_type": "code",
      "metadata": {
        "id": "Gtv0qm7afutb"
      },
      "source": [
        "cdata = {\"author\":authorflat,\"publishdate\":publishdateformatted,\"title\":titleflat,\"description\":descriptionflat,\"upvote\":upvoteflat}\n",
        "df = pd.DataFrame(data = cdata)\n",
        "df.to_csv(\"c:\\\\users\\\\Turabi Traders\\\\documents\\\\datacamp130818.csv\", header=True, index=False)"
      ],
      "execution_count": 90,
      "outputs": []
    },
    {
      "cell_type": "code",
      "metadata": {
        "id": "A9exYpxif1s0"
      },
      "source": [
        "datacamp = pd.read_csv(\"c:\\\\users\\\\Turabi Traders\\\\documents\\\\datacamp130818.csv\", parse_dates=[\"publishdate\"], infer_datetime_format=True)"
      ],
      "execution_count": 91,
      "outputs": []
    },
    {
      "cell_type": "code",
      "metadata": {
        "colab": {
          "base_uri": "https://localhost:8080/"
        },
        "id": "mAEUZQzBf6W6",
        "outputId": "1de42e2d-d41b-41a3-ef47-20dacbdbc9b6"
      },
      "source": [
        "datacamp.shape"
      ],
      "execution_count": 92,
      "outputs": [
        {
          "output_type": "execute_result",
          "data": {
            "text/plain": [
              "(429, 5)"
            ]
          },
          "metadata": {
            "tags": []
          },
          "execution_count": 92
        }
      ]
    },
    {
      "cell_type": "code",
      "metadata": {
        "colab": {
          "base_uri": "https://localhost:8080/",
          "height": 191
        },
        "id": "GAjTxBlyLZ1G",
        "outputId": "00759799-84e1-4bf6-f7ce-62499e6604d8"
      },
      "source": [
        "datacamp.head()"
      ],
      "execution_count": 93,
      "outputs": [
        {
          "output_type": "execute_result",
          "data": {
            "text/html": [
              "<div>\n",
              "<style scoped>\n",
              "    .dataframe tbody tr th:only-of-type {\n",
              "        vertical-align: middle;\n",
              "    }\n",
              "\n",
              "    .dataframe tbody tr th {\n",
              "        vertical-align: top;\n",
              "    }\n",
              "\n",
              "    .dataframe thead th {\n",
              "        text-align: right;\n",
              "    }\n",
              "</style>\n",
              "<table border=\"1\" class=\"dataframe\">\n",
              "  <thead>\n",
              "    <tr style=\"text-align: right;\">\n",
              "      <th></th>\n",
              "      <th>author</th>\n",
              "      <th>publishdate</th>\n",
              "      <th>title</th>\n",
              "      <th>description</th>\n",
              "      <th>upvote</th>\n",
              "    </tr>\n",
              "  </thead>\n",
              "  <tbody>\n",
              "    <tr>\n",
              "      <th>0</th>\n",
              "      <td>DataCamp Team</td>\n",
              "      <td>2020-10-23</td>\n",
              "      <td>Installing Jupyter Notebook</td>\n",
              "      <td></td>\n",
              "      <td>44</td>\n",
              "    </tr>\n",
              "    <tr>\n",
              "      <th>1</th>\n",
              "      <td>DataCamp Team</td>\n",
              "      <td>2020-10-23</td>\n",
              "      <td>Joins in SQL</td>\n",
              "      <td></td>\n",
              "      <td>19</td>\n",
              "    </tr>\n",
              "    <tr>\n",
              "      <th>2</th>\n",
              "      <td>DataCamp Team</td>\n",
              "      <td>2020-10-23</td>\n",
              "      <td>What is SQL?</td>\n",
              "      <td></td>\n",
              "      <td>20</td>\n",
              "    </tr>\n",
              "    <tr>\n",
              "      <th>3</th>\n",
              "      <td>DataCamp Team</td>\n",
              "      <td>2020-10-23</td>\n",
              "      <td>PCH in R</td>\n",
              "      <td></td>\n",
              "      <td>2</td>\n",
              "    </tr>\n",
              "    <tr>\n",
              "      <th>4</th>\n",
              "      <td>DataCamp Team</td>\n",
              "      <td>2020-10-23</td>\n",
              "      <td>Python String format()</td>\n",
              "      <td></td>\n",
              "      <td>12</td>\n",
              "    </tr>\n",
              "  </tbody>\n",
              "</table>\n",
              "</div>"
            ],
            "text/plain": [
              "          author publishdate                        title description  upvote\n",
              "0  DataCamp Team  2020-10-23  Installing Jupyter Notebook                  44\n",
              "1  DataCamp Team  2020-10-23                 Joins in SQL                  19\n",
              "2  DataCamp Team  2020-10-23                 What is SQL?                  20\n",
              "3  DataCamp Team  2020-10-23                     PCH in R                   2\n",
              "4  DataCamp Team  2020-10-23       Python String format()                  12"
            ]
          },
          "metadata": {
            "tags": []
          },
          "execution_count": 93
        }
      ]
    },
    {
      "cell_type": "code",
      "metadata": {
        "colab": {
          "base_uri": "https://localhost:8080/",
          "height": 191
        },
        "id": "kncg8sTpf-u7",
        "outputId": "9c3df042-f0d2-4f27-aad8-7857b6449203"
      },
      "source": [
        "datacamp.tail()"
      ],
      "execution_count": 95,
      "outputs": [
        {
          "output_type": "execute_result",
          "data": {
            "text/html": [
              "<div>\n",
              "<style scoped>\n",
              "    .dataframe tbody tr th:only-of-type {\n",
              "        vertical-align: middle;\n",
              "    }\n",
              "\n",
              "    .dataframe tbody tr th {\n",
              "        vertical-align: top;\n",
              "    }\n",
              "\n",
              "    .dataframe thead th {\n",
              "        text-align: right;\n",
              "    }\n",
              "</style>\n",
              "<table border=\"1\" class=\"dataframe\">\n",
              "  <thead>\n",
              "    <tr style=\"text-align: right;\">\n",
              "      <th></th>\n",
              "      <th>author</th>\n",
              "      <th>publishdate</th>\n",
              "      <th>title</th>\n",
              "      <th>description</th>\n",
              "      <th>upvote</th>\n",
              "      <th>publishyymm</th>\n",
              "      <th>posts</th>\n",
              "    </tr>\n",
              "  </thead>\n",
              "  <tbody>\n",
              "    <tr>\n",
              "      <th>424</th>\n",
              "      <td>Karlijn Willems</td>\n",
              "      <td>2014-06-09</td>\n",
              "      <td>Decimal Comma or Point? A googleVis visualization</td>\n",
              "      <td>Decimal comma or decimal point? A handy tool t...</td>\n",
              "      <td>3</td>\n",
              "      <td>2014-Jun</td>\n",
              "      <td>1</td>\n",
              "    </tr>\n",
              "    <tr>\n",
              "      <th>425</th>\n",
              "      <td>Karlijn Willems</td>\n",
              "      <td>2014-06-03</td>\n",
              "      <td>What Is the Best Statistical Programming Langu...</td>\n",
              "      <td>The infograph 'Statistical Language Wars' comp...</td>\n",
              "      <td>6</td>\n",
              "      <td>2014-Jun</td>\n",
              "      <td>1</td>\n",
              "    </tr>\n",
              "    <tr>\n",
              "      <th>426</th>\n",
              "      <td>Karlijn Willems</td>\n",
              "      <td>2014-03-31</td>\n",
              "      <td>Data Science Cartoons: a Top Seven List by Dat...</td>\n",
              "      <td>The 7 funniest data science cartoons on the we...</td>\n",
              "      <td>10</td>\n",
              "      <td>2014-Mar</td>\n",
              "      <td>1</td>\n",
              "    </tr>\n",
              "    <tr>\n",
              "      <th>427</th>\n",
              "      <td>Karlijn Willems</td>\n",
              "      <td>2014-03-17</td>\n",
              "      <td>R posts on Stack Overflow | A Top 5 selection ...</td>\n",
              "      <td>Stack Overflow is a useful resource for techni...</td>\n",
              "      <td>4</td>\n",
              "      <td>2014-Mar</td>\n",
              "      <td>1</td>\n",
              "    </tr>\n",
              "    <tr>\n",
              "      <th>428</th>\n",
              "      <td>Karlijn Willems</td>\n",
              "      <td>2013-12-04</td>\n",
              "      <td>Coursera Courses on R: Complete List Ranked by...</td>\n",
              "      <td>A list of all Coursera courses on R. These cou...</td>\n",
              "      <td>7</td>\n",
              "      <td>2013-Dec</td>\n",
              "      <td>1</td>\n",
              "    </tr>\n",
              "  </tbody>\n",
              "</table>\n",
              "</div>"
            ],
            "text/plain": [
              "              author publishdate  ... publishyymm posts\n",
              "424  Karlijn Willems  2014-06-09  ...    2014-Jun     1\n",
              "425  Karlijn Willems  2014-06-03  ...    2014-Jun     1\n",
              "426  Karlijn Willems  2014-03-31  ...    2014-Mar     1\n",
              "427  Karlijn Willems  2014-03-17  ...    2014-Mar     1\n",
              "428  Karlijn Willems  2013-12-04  ...    2013-Dec     1\n",
              "\n",
              "[5 rows x 7 columns]"
            ]
          },
          "metadata": {
            "tags": []
          },
          "execution_count": 95
        }
      ]
    },
    {
      "cell_type": "code",
      "metadata": {
        "id": "TD6kAwR9gKVo"
      },
      "source": [
        "datacamp['publishyymm'] = datacamp['publishdate'].dt.strftime(\"%Y-%b\")\n",
        "datacamp[\"posts\"] = 1"
      ],
      "execution_count": 94,
      "outputs": []
    }
  ]
}